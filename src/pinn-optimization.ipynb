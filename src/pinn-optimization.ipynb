{
 "cells": [
  {
   "cell_type": "markdown",
   "metadata": {},
   "source": [
    "# Definindo sistema\n"
   ]
  },
  {
   "cell_type": "code",
   "execution_count": 1,
   "metadata": {},
   "outputs": [],
   "source": [
    "import numpy as np\n",
    "import torch\n",
    "from scipy.integrate import solve_ivp\n",
    "\n",
    "from plots import plot_tanks\n",
    "\n",
    "np.random.seed(42)\n",
    "\n",
    "# Constantes\n",
    "a1 = 50  # cm^2\n",
    "a2 = 50  # cm^2\n",
    "cv1 = 1\n",
    "cv2 = 1\n",
    "\n",
    "\n",
    "def F(t, op=np):\n",
    "    f = 5 - (t**2) / 3000\n",
    "    return op.where(f < 0.0, 0.0, f)\n",
    "\n",
    "\n",
    "def edo_np(t, Y):\n",
    "    h1, h2 = Y[0], Y[1]\n",
    "\n",
    "    # Tanks limits\n",
    "    h1 = np.where(h1 < 0.0, 0.0, h1)\n",
    "    h2 = np.where(h2 < 0.0, 0.0, h2)\n",
    "\n",
    "    # Equations\n",
    "    dh1dt = (F(t) - cv1 * np.sqrt(h1)) / a1\n",
    "    dh2dt = (cv1 * np.sqrt(h1) - cv2 * np.sqrt(h2)) / a2\n",
    "    return np.array([dh1dt, dh2dt])\n",
    "\n",
    "\n",
    "t = np.linspace(0, 300, 300)\n",
    "t_tensor = torch.tensor(t, dtype=torch.float32, requires_grad=True).unsqueeze(1)\n",
    "y0 = np.array([0, 0])\n",
    "\n",
    "sol = solve_ivp(edo_np, [t[0], t[-1]], y0, t_eval=t)\n",
    "h1_exp = sol.y[0] + np.random.normal(0, 1, len(t)) * 0.1\n",
    "h2_exp = sol.y[1] + np.random.normal(0, 1, len(t)) * 0.1\n",
    "\n",
    "plot_tanks(\n",
    "    t, [h1_exp, h2_exp], [\"h1 (exp)\", \"h2 (exp)\"], scatter=2, filename=\"exp_tanks\"\n",
    ")\n",
    "\n",
    "# plt.figure(figsize=(10, 4), layout=\"constrained\")\n",
    "# plt.plot(t, F(t), label=\"F\")\n",
    "# plt.show()\n"
   ]
  },
  {
   "cell_type": "markdown",
   "metadata": {},
   "source": [
    "# Definindo rede neural\n"
   ]
  },
  {
   "cell_type": "code",
   "execution_count": 2,
   "metadata": {},
   "outputs": [],
   "source": [
    "from torch import nn\n",
    "\n",
    "\n",
    "class BaseModel(nn.Module):\n",
    "    def __init__(self):\n",
    "        super().__init__()\n",
    "        input_size = 1  # t\n",
    "        hidden_size = 8\n",
    "        output_size = 2  # h1, h2\n",
    "\n",
    "        self.hidden_layer = nn.Sequential(\n",
    "            nn.Linear(input_size, hidden_size),\n",
    "            nn.Tanh(),\n",
    "            nn.Linear(hidden_size, hidden_size),\n",
    "            nn.Tanh(),\n",
    "            nn.Linear(hidden_size, output_size),\n",
    "        )\n",
    "\n",
    "    def forward(self, x):\n",
    "        output = self.hidden_layer((x * 2 / torch.max(t_tensor)) - 1)\n",
    "        return torch.abs((output + 1) * (torch.max(h1_exp) / 2))\n"
   ]
  },
  {
   "cell_type": "markdown",
   "metadata": {},
   "source": [
    "## Definindo função Loss\n"
   ]
  },
  {
   "cell_type": "code",
   "execution_count": 3,
   "metadata": {},
   "outputs": [],
   "source": [
    "from utils import dydx, mean_square\n",
    "\n",
    "h1_exp = torch.tensor(h1_exp, dtype=torch.float32)\n",
    "h2_exp = torch.tensor(h2_exp, dtype=torch.float32)\n",
    "\n",
    "\n",
    "def edo_torch(t, Y):\n",
    "    h1, h2 = Y\n",
    "\n",
    "    # Equations\n",
    "    dh1dt = (F(t, torch) - cv1 * torch.sqrt(h1)) / a1\n",
    "    dh2dt = (cv1 * torch.sqrt(h1) - cv2 * torch.sqrt(h2)) / a2\n",
    "    return [dh1dt, dh2dt]\n",
    "\n",
    "\n",
    "def loss_fn(model, t):\n",
    "    # Loss das EDOs\n",
    "    Y_pred = model(t)\n",
    "    h1_pred, h2_pred = Y_pred[:, 0], Y_pred[:, 1]\n",
    "\n",
    "    dh1dt_pinn, dh2dt_pinn = dydx(t, h1_pred), dydx(t, h2_pred)\n",
    "    dh1dt_edo, dh2dt_edo = edo_torch(t, [h1_pred, h2_pred])\n",
    "\n",
    "    loss_EDO1 = mean_square(dh1dt_pinn - dh1dt_edo)\n",
    "    loss_EDO2 = mean_square(dh2dt_pinn - dh2dt_edo)\n",
    "\n",
    "    # Loss das condições iniciais\n",
    "    t0 = torch.tensor([[0.0]], requires_grad=True)\n",
    "    Y0 = model(t0)\n",
    "    h1_0, h2_0 = Y0[:, 0], Y0[:, 1]\n",
    "\n",
    "    loss_ic1 = mean_square(h1_0 - y0[0])\n",
    "    loss_ic2 = mean_square(h2_0 - y0[1])\n",
    "\n",
    "    # Loss dos dados\n",
    "    loss_data_h1 = mean_square(h1_pred - h1_exp)\n",
    "    loss_data_h2 = mean_square(h2_pred - h2_exp)\n",
    "\n",
    "    # Loss total\n",
    "    loss_total = (\n",
    "        loss_EDO1 + loss_EDO2 + loss_data_h1 + loss_data_h2 + loss_ic1 + loss_ic2\n",
    "    )\n",
    "\n",
    "    return loss_total\n"
   ]
  },
  {
   "cell_type": "markdown",
   "metadata": {},
   "source": [
    "# Testando métodos\n"
   ]
  },
  {
   "cell_type": "code",
   "execution_count": 4,
   "metadata": {},
   "outputs": [],
   "source": [
    "n_execuções = 2\n",
    "target_loss = 0.1\n",
    "\n",
    "Adam_study_path = \"../results/Adam-studies.hkl\"\n",
    "Adam_results_path = \"../results/Adam-speeds.hkl\"\n",
    "Adam_model_path = \"../results/Adam-model.pt\"\n"
   ]
  },
  {
   "cell_type": "markdown",
   "metadata": {},
   "source": [
    "## Adam\n"
   ]
  },
  {
   "cell_type": "markdown",
   "metadata": {},
   "source": [
    "### Otimizando hiperparametros\n"
   ]
  },
  {
   "cell_type": "code",
   "execution_count": 5,
   "metadata": {},
   "outputs": [
    {
     "name": "stderr",
     "output_type": "stream",
     "text": [
      "[I 2025-01-12 15:23:52,563] A new study created in memory with name: Adam-study\n"
     ]
    },
    {
     "name": "stdout",
     "output_type": "stream",
     "text": [
      "Recuperando estudo dos hiperparametros do Adam.\n",
      "Melhor Adam:\n",
      "  Valor do Loss: 0.03443121537566185\n",
      "  hiperparametros:\n",
      "    lr: 0.0373127801064052\n",
      "    beta1: 0.9788283098093384\n",
      "    beta2: 0.9737445920960419\n"
     ]
    }
   ],
   "source": [
    "import os\n",
    "\n",
    "import hickle as hkl\n",
    "import optuna\n",
    "\n",
    "\n",
    "def objective(trial: optuna.Trial):\n",
    "    test_model = BaseModel()\n",
    "\n",
    "    lr = trial.suggest_float(\"lr\", 1e-15, 1)\n",
    "    beta1 = trial.suggest_float(\"beta1\", 1e-10, 1)\n",
    "    beta2 = trial.suggest_float(\"beta2\", 1e-10, 1)\n",
    "\n",
    "    optimizer = torch.optim.Adam(test_model.parameters(), lr=lr, betas=(beta1, beta2))\n",
    "\n",
    "    # O Loop de treinamento\n",
    "    for _ in range(1000):\n",
    "        # Coloca o modelo no modo de treinamento\n",
    "        test_model.train()\n",
    "\n",
    "        # Calcula o loss usando a nossa função loss.\n",
    "        loss = loss_fn(test_model, t_tensor)\n",
    "\n",
    "        # Ajusta os valores do modelo\n",
    "        optimizer.zero_grad()\n",
    "        loss.backward()\n",
    "        optimizer.step()\n",
    "\n",
    "    return float(loss_fn(test_model, t_tensor).detach().numpy())\n",
    "\n",
    "\n",
    "study = optuna.create_study(direction=\"minimize\", study_name=\"Adam-study\")\n",
    "\n",
    "if not os.path.exists(Adam_study_path):\n",
    "    print(\"Otimizando hiperparametros do Adam\")\n",
    "    study.optimize(objective, n_trials=100, timeout=600)\n",
    "    print(\"Salvando estudo para futuras execuções\")\n",
    "    hkl.dump(study, Adam_study_path)\n",
    "else:\n",
    "    print(\"Recuperando estudo dos hiperparametros do Adam.\")\n",
    "    study = hkl.load(Adam_study_path)\n",
    "\n",
    "best_Adam = study.best_trial\n",
    "print(\"Melhor Adam:\")\n",
    "print(\"  Valor do Loss:\", best_Adam.value)\n",
    "\n",
    "print(\"  hiperparametros:\")\n",
    "for key, value in best_Adam.params.items():\n",
    "    print(f\"    {key}: {value}\")\n"
   ]
  },
  {
   "cell_type": "markdown",
   "metadata": {},
   "source": [
    "### Medindo desempenho\n"
   ]
  },
  {
   "cell_type": "code",
   "execution_count": 15,
   "metadata": {},
   "outputs": [
    {
     "name": "stdout",
     "output_type": "stream",
     "text": [
      "Recuperando testes anteriores\n",
      "Média do tempo (Adam): 4.635s\n"
     ]
    }
   ],
   "source": [
    "import time\n",
    "\n",
    "Adam_times = []\n",
    "Adam_losses = []\n",
    "Adam_fails_count = 0\n",
    "Adam_model = BaseModel()\n",
    "\n",
    "if not (os.path.exists(Adam_results_path) and os.path.exists(Adam_model_path)):\n",
    "    print(\"Fazendo testes de desempenho do Adam\")\n",
    "    for i in range(n_execuções):\n",
    "        start_time = time.monotonic()\n",
    "        torch.manual_seed(i)\n",
    "        Adam_model = BaseModel()\n",
    "        optimizer = torch.optim.Adam(\n",
    "            Adam_model.parameters(),\n",
    "            lr=best_Adam.params[\"lr\"],\n",
    "            betas=(best_Adam.params[\"beta1\"], best_Adam.params[\"beta2\"]),\n",
    "        )\n",
    "\n",
    "        for epoch in range(5000):\n",
    "            # Coloca o modelo no modo de treinamento\n",
    "            Adam_model.train()\n",
    "\n",
    "            # Calcula o loss usando a nossa função loss.\n",
    "            loss = loss_fn(Adam_model, t_tensor)\n",
    "\n",
    "            # Ajusta os valores do modelo\n",
    "            optimizer.zero_grad()\n",
    "            loss.backward()\n",
    "            optimizer.step()\n",
    "\n",
    "            loss_value = float(loss.detach().numpy())\n",
    "            if loss_value < target_loss:\n",
    "                elapsed_time = time.monotonic() - start_time\n",
    "                Adam_times.append(elapsed_time)\n",
    "                Adam_losses.append(loss_value)\n",
    "                break\n",
    "            if epoch == 4998:\n",
    "                print(\"N° máximo de interações. A seed\", epoch, \"falhou\")\n",
    "                Adam_fails_count += 1\n",
    "                break\n",
    "    print(\"Salvando para futuras execuções\")\n",
    "    hkl.dump((Adam_times, Adam_losses, Adam_fails_count), Adam_results_path)\n",
    "    Adam_model.eval()\n",
    "    torch.save(Adam_model.state_dict(), Adam_model_path)\n",
    "else:\n",
    "    print(\"Recuperando testes anteriores\")\n",
    "    Adam_times, Adam_losses, Adam_fails_count = hkl.load(Adam_results_path)\n",
    "    Adam_model.load_state_dict(torch.load(Adam_model_path, weights_only=True))\n",
    "\n",
    "print(f\"Média do tempo (Adam): {np.mean(Adam_times):.3f}s\")\n"
   ]
  },
  {
   "cell_type": "code",
   "execution_count": 7,
   "metadata": {},
   "outputs": [],
   "source": [
    "@torch.inference_mode()\n",
    "def test_model(model):\n",
    "    y = model(t_tensor)\n",
    "    return [y[:, 0], y[:, 1]]\n",
    "\n",
    "\n",
    "pinn_h1, pinn_h2 = test_model(Adam_model)\n",
    "\n",
    "# Gráfico\n",
    "plot_tanks(\n",
    "    t,\n",
    "    (h1_exp, h2_exp, pinn_h1, pinn_h2),\n",
    "    [\"h1 (exp)\", \"h2 (exp)\", \"h1 (PINN Adam)\", \"h2 (PINN Adam)\"],\n",
    "    scatter=2,\n",
    "    filename=\"adam_tanks\",\n",
    ")\n"
   ]
  },
  {
   "cell_type": "markdown",
   "metadata": {},
   "source": [
    "## Algoritmo Genético\n"
   ]
  },
  {
   "cell_type": "code",
   "execution_count": 8,
   "metadata": {},
   "outputs": [
    {
     "ename": "KeyboardInterrupt",
     "evalue": "",
     "output_type": "error",
     "traceback": [
      "\u001b[0;31m---------------------------------------------------------------------------\u001b[0m",
      "\u001b[0;31mKeyboardInterrupt\u001b[0m                         Traceback (most recent call last)",
      "Cell \u001b[0;32mIn[8], line 40\u001b[0m\n\u001b[1;32m     25\u001b[0m ga_instance \u001b[38;5;241m=\u001b[39m pygad\u001b[38;5;241m.\u001b[39mGA(\n\u001b[1;32m     26\u001b[0m     num_generations\u001b[38;5;241m=\u001b[39m\u001b[38;5;241m500\u001b[39m,  \u001b[38;5;66;03m# Número de gerações\u001b[39;00m\n\u001b[1;32m     27\u001b[0m     num_parents_mating\u001b[38;5;241m=\u001b[39m\u001b[38;5;241m5\u001b[39m,  \u001b[38;5;66;03m# Número de pais para crossover\u001b[39;00m\n\u001b[0;32m   (...)\u001b[0m\n\u001b[1;32m     36\u001b[0m     init_range_high\u001b[38;5;241m=\u001b[39m\u001b[38;5;241m4\u001b[39m,\n\u001b[1;32m     37\u001b[0m )\n\u001b[1;32m     39\u001b[0m \u001b[38;5;66;03m# Executa o algoritmo genético\u001b[39;00m\n\u001b[0;32m---> 40\u001b[0m \u001b[43mga_instance\u001b[49m\u001b[38;5;241;43m.\u001b[39;49m\u001b[43mrun\u001b[49m\u001b[43m(\u001b[49m\u001b[43m)\u001b[49m\n\u001b[1;32m     42\u001b[0m \u001b[38;5;66;03m# Obtém a melhor solução\u001b[39;00m\n\u001b[1;32m     43\u001b[0m best_solution, best_solution_fitness, _ \u001b[38;5;241m=\u001b[39m ga_instance\u001b[38;5;241m.\u001b[39mbest_solution()\n",
      "File \u001b[0;32m~/workspace/ENGG11/.venv/lib/python3.13/site-packages/pygad/pygad.py:1952\u001b[0m, in \u001b[0;36mGA.run\u001b[0;34m(self)\u001b[0m\n\u001b[1;32m   1950\u001b[0m \u001b[38;5;28mself\u001b[39m\u001b[38;5;241m.\u001b[39mprevious_generation_fitness \u001b[38;5;241m=\u001b[39m \u001b[38;5;28mself\u001b[39m\u001b[38;5;241m.\u001b[39mlast_generation_fitness\u001b[38;5;241m.\u001b[39mcopy()\n\u001b[1;32m   1951\u001b[0m \u001b[38;5;66;03m# Measuring the fitness of each chromosome in the population. Save the fitness in the last_generation_fitness attribute.\u001b[39;00m\n\u001b[0;32m-> 1952\u001b[0m \u001b[38;5;28mself\u001b[39m\u001b[38;5;241m.\u001b[39mlast_generation_fitness \u001b[38;5;241m=\u001b[39m \u001b[38;5;28;43mself\u001b[39;49m\u001b[38;5;241;43m.\u001b[39;49m\u001b[43mcal_pop_fitness\u001b[49m\u001b[43m(\u001b[49m\u001b[43m)\u001b[49m\n\u001b[1;32m   1954\u001b[0m best_solution, best_solution_fitness, best_match_idx \u001b[38;5;241m=\u001b[39m \u001b[38;5;28mself\u001b[39m\u001b[38;5;241m.\u001b[39mbest_solution(\n\u001b[1;32m   1955\u001b[0m     pop_fitness\u001b[38;5;241m=\u001b[39m\u001b[38;5;28mself\u001b[39m\u001b[38;5;241m.\u001b[39mlast_generation_fitness)\n\u001b[1;32m   1957\u001b[0m \u001b[38;5;66;03m# Appending the best solution in the current generation to the best_solutions list.\u001b[39;00m\n",
      "File \u001b[0;32m~/workspace/ENGG11/.venv/lib/python3.13/site-packages/pygad/pygad.py:1697\u001b[0m, in \u001b[0;36mGA.cal_pop_fitness\u001b[0;34m(self)\u001b[0m\n\u001b[1;32m   1694\u001b[0m \u001b[38;5;28;01melse\u001b[39;00m:\n\u001b[1;32m   1695\u001b[0m     \u001b[38;5;66;03m# Check if batch processing is used. If not, then calculate this missing fitness value.\u001b[39;00m\n\u001b[1;32m   1696\u001b[0m     \u001b[38;5;28;01mif\u001b[39;00m \u001b[38;5;28mself\u001b[39m\u001b[38;5;241m.\u001b[39mfitness_batch_size \u001b[38;5;129;01min\u001b[39;00m [\u001b[38;5;241m1\u001b[39m, \u001b[38;5;28;01mNone\u001b[39;00m]:\n\u001b[0;32m-> 1697\u001b[0m         fitness \u001b[38;5;241m=\u001b[39m \u001b[38;5;28;43mself\u001b[39;49m\u001b[38;5;241;43m.\u001b[39;49m\u001b[43mfitness_func\u001b[49m\u001b[43m(\u001b[49m\u001b[38;5;28;43mself\u001b[39;49m\u001b[43m,\u001b[49m\u001b[43m \u001b[49m\u001b[43msol\u001b[49m\u001b[43m,\u001b[49m\u001b[43m \u001b[49m\u001b[43msol_idx\u001b[49m\u001b[43m)\u001b[49m\n\u001b[1;32m   1698\u001b[0m         \u001b[38;5;28;01mif\u001b[39;00m \u001b[38;5;28mtype\u001b[39m(fitness) \u001b[38;5;129;01min\u001b[39;00m GA\u001b[38;5;241m.\u001b[39msupported_int_float_types:\n\u001b[1;32m   1699\u001b[0m             \u001b[38;5;66;03m# The fitness function returns a single numeric value.\u001b[39;00m\n\u001b[1;32m   1700\u001b[0m             \u001b[38;5;66;03m# This is a single-objective optimization problem.\u001b[39;00m\n\u001b[1;32m   1701\u001b[0m             \u001b[38;5;28;01mpass\u001b[39;00m\n",
      "Cell \u001b[0;32mIn[8], line 15\u001b[0m, in \u001b[0;36mfitness_func\u001b[0;34m(ga_instance, solution, solution_idx)\u001b[0m\n\u001b[1;32m     12\u001b[0m GA_model\u001b[38;5;241m.\u001b[39mload_state_dict(model_weights_dict)\n\u001b[1;32m     14\u001b[0m GA_model\u001b[38;5;241m.\u001b[39meval()\n\u001b[0;32m---> 15\u001b[0m loss \u001b[38;5;241m=\u001b[39m \u001b[43mloss_fn\u001b[49m\u001b[43m(\u001b[49m\u001b[43mGA_model\u001b[49m\u001b[43m,\u001b[49m\u001b[43m \u001b[49m\u001b[43mt_tensor\u001b[49m\u001b[43m)\u001b[49m\n\u001b[1;32m     17\u001b[0m \u001b[38;5;66;03m# Retorna o inverso da perda (quanto menor o loss, maior o fitness)\u001b[39;00m\n\u001b[1;32m     18\u001b[0m \u001b[38;5;28;01mreturn\u001b[39;00m \u001b[38;5;241m-\u001b[39mloss\u001b[38;5;241m.\u001b[39mitem()\n",
      "Cell \u001b[0;32mIn[3], line 22\u001b[0m, in \u001b[0;36mloss_fn\u001b[0;34m(model, t)\u001b[0m\n\u001b[1;32m     19\u001b[0m h1_pred, h2_pred \u001b[38;5;241m=\u001b[39m Y_pred[:, \u001b[38;5;241m0\u001b[39m], Y_pred[:, \u001b[38;5;241m1\u001b[39m]\n\u001b[1;32m     21\u001b[0m dh1dt_pinn, dh2dt_pinn \u001b[38;5;241m=\u001b[39m dydx(t, h1_pred), dydx(t, h2_pred)\n\u001b[0;32m---> 22\u001b[0m dh1dt_edo, dh2dt_edo \u001b[38;5;241m=\u001b[39m \u001b[43medo_torch\u001b[49m\u001b[43m(\u001b[49m\u001b[43mt\u001b[49m\u001b[43m,\u001b[49m\u001b[43m \u001b[49m\u001b[43m[\u001b[49m\u001b[43mh1_pred\u001b[49m\u001b[43m,\u001b[49m\u001b[43m \u001b[49m\u001b[43mh2_pred\u001b[49m\u001b[43m]\u001b[49m\u001b[43m)\u001b[49m\n\u001b[1;32m     24\u001b[0m loss_EDO1 \u001b[38;5;241m=\u001b[39m mean_square(dh1dt_pinn \u001b[38;5;241m-\u001b[39m dh1dt_edo)\n\u001b[1;32m     25\u001b[0m loss_EDO2 \u001b[38;5;241m=\u001b[39m mean_square(dh2dt_pinn \u001b[38;5;241m-\u001b[39m dh2dt_edo)\n",
      "Cell \u001b[0;32mIn[3], line 12\u001b[0m, in \u001b[0;36medo_torch\u001b[0;34m(t, Y)\u001b[0m\n\u001b[1;32m     10\u001b[0m \u001b[38;5;66;03m# Equations\u001b[39;00m\n\u001b[1;32m     11\u001b[0m dh1dt \u001b[38;5;241m=\u001b[39m (F(t, torch) \u001b[38;5;241m-\u001b[39m cv1 \u001b[38;5;241m*\u001b[39m torch\u001b[38;5;241m.\u001b[39msqrt(h1)) \u001b[38;5;241m/\u001b[39m a1\n\u001b[0;32m---> 12\u001b[0m dh2dt \u001b[38;5;241m=\u001b[39m (cv1 \u001b[38;5;241m*\u001b[39m \u001b[43mtorch\u001b[49m\u001b[38;5;241;43m.\u001b[39;49m\u001b[43msqrt\u001b[49m\u001b[43m(\u001b[49m\u001b[43mh1\u001b[49m\u001b[43m)\u001b[49m \u001b[38;5;241m-\u001b[39m cv2 \u001b[38;5;241m*\u001b[39m torch\u001b[38;5;241m.\u001b[39msqrt(h2)) \u001b[38;5;241m/\u001b[39m a2\n\u001b[1;32m     13\u001b[0m \u001b[38;5;28;01mreturn\u001b[39;00m [dh1dt, dh2dt]\n",
      "\u001b[0;31mKeyboardInterrupt\u001b[0m: "
     ]
    }
   ],
   "source": [
    "import pygad\n",
    "from pygad.torchga import torchga\n",
    "\n",
    "torch.manual_seed(42)\n",
    "GA_model = BaseModel()\n",
    "\n",
    "\n",
    "def fitness_func(ga_instance, solution, solution_idx):\n",
    "    model_weights_dict = torchga.model_weights_as_dict(\n",
    "        model=GA_model, weights_vector=solution\n",
    "    )\n",
    "    GA_model.load_state_dict(model_weights_dict)\n",
    "\n",
    "    GA_model.eval()\n",
    "    loss = loss_fn(GA_model, t_tensor)\n",
    "\n",
    "    # Retorna o inverso da perda (quanto menor o loss, maior o fitness)\n",
    "    return -loss.item()\n",
    "\n",
    "\n",
    "# Configura o TorchGA para criar populações baseadas no modelo\n",
    "torch_ga = torchga.TorchGA(model=GA_model, num_solutions=200)\n",
    "\n",
    "# Configura o algoritmo genético\n",
    "ga_instance = pygad.GA(\n",
    "    num_generations=500,  # Número de gerações\n",
    "    num_parents_mating=5,  # Número de pais para crossover\n",
    "    initial_population=torch_ga.population_weights,  # Pesos iniciais\n",
    "    fitness_func=fitness_func,  # Função de aptidão\n",
    "    mutation_percent_genes=\"default\",  # Percentual de mutação\n",
    "    keep_parents=2,  # Quantos pais manter\n",
    "    crossover_type=\"single_point\",  # Tipo de crossover\n",
    "    mutation_type=\"random\",  # Tipo de mutação\n",
    "    random_seed=42,\n",
    "    init_range_low=-4,\n",
    "    init_range_high=4,\n",
    ")\n",
    "\n",
    "# Executa o algoritmo genético\n",
    "ga_instance.run()\n",
    "\n",
    "# Obtém a melhor solução\n",
    "best_solution, best_solution_fitness, _ = ga_instance.best_solution()\n",
    "model_weights_dict = torchga.model_weights_as_dict(\n",
    "    model=GA_model, weights_vector=best_solution\n",
    ")\n",
    "GA_model.load_state_dict(model_weights_dict)\n",
    "print(\"Loss Final:\", -best_solution_fitness)\n"
   ]
  },
  {
   "cell_type": "code",
   "execution_count": 9,
   "metadata": {},
   "outputs": [
    {
     "data": {
      "image/png": "[encoded data removed]",
      "text/plain": [
       "<Figure size 960x384 with 1 Axes>"
      ]
     },
     "metadata": {},
     "output_type": "display_data"
    }
   ],
   "source": [
    "pinn_h1, pinn_h2 = test_model(GA_model)\n",
    "\n",
    "# Gráfico\n",
    "plot_tanks(\n",
    "    t,\n",
    "    (h1_exp, h2_exp, pinn_h1, pinn_h2),\n",
    "    [\"h1 (exp)\", \"h2 (exp)\", \"h1 (PINN GA)\", \"h2 (PINN GA)\"],\n",
    "    scatter=2,\n",
    ")\n"
   ]
  },
  {
   "cell_type": "code",
   "execution_count": 10,
   "metadata": {},
   "outputs": [
    {
     "name": "stdout",
     "output_type": "stream",
     "text": [
      "Nome: hidden_layer.0.weight\n",
      "Valor: Parameter containing:\n",
      "tensor([[ 1.0793],\n",
      "        [-0.1387],\n",
      "        [-1.3150],\n",
      "        [ 0.3257],\n",
      "        [-0.5656],\n",
      "        [ 0.7433],\n",
      "        [-0.1279],\n",
      "        [ 0.7154]], requires_grad=True)\n",
      "Nome: hidden_layer.0.bias\n",
      "Valor: Parameter containing:\n",
      "tensor([ 1.1546, -0.2044, -0.3934,  0.3114,  0.2269, -0.5096, -0.3363, -1.0832],\n",
      "       requires_grad=True)\n",
      "Nome: hidden_layer.2.weight\n",
      "Valor: Parameter containing:\n",
      "tensor([[ 1.1769, -0.2594, -1.4799,  1.3371,  1.9286, -0.6260,  1.6309, -0.7714],\n",
      "        [ 0.0278, -0.7589, -0.0494, -0.4983, -0.6598, -0.4050, -0.0136,  0.4843],\n",
      "        [ 0.0850,  0.2022, -0.1962,  1.9963, -0.3686,  0.5761,  0.7818,  2.4722],\n",
      "        [ 1.7343, -1.8350,  0.7462,  0.7205,  0.6271, -0.7949,  0.3349,  0.5946],\n",
      "        [-1.7439, -0.0392, -1.4196, -2.0145, -0.6192,  0.6849, -0.2255, -0.4560],\n",
      "        [ 0.1694, -3.6950,  1.0167, -1.2920, -0.0112, -0.2467, -0.8512, -1.6377],\n",
      "        [ 0.3613,  1.1489,  0.2347,  1.2716,  0.6412,  0.1596,  0.9751,  2.3563],\n",
      "        [ 0.4506,  0.0481, -0.9683,  0.4059, -1.3186, -0.3513,  0.6926, -0.7856]],\n",
      "       requires_grad=True)\n",
      "Nome: hidden_layer.2.bias\n",
      "Valor: Parameter containing:\n",
      "tensor([ 0.1569, -0.8140, -0.3395, -1.3301,  1.6707,  0.1216, -0.8760, -0.2313],\n",
      "       requires_grad=True)\n",
      "Nome: hidden_layer.4.weight\n",
      "Valor: Parameter containing:\n",
      "tensor([[ 0.2648,  0.2263, -0.0637, -2.8028,  0.8163, -0.3788,  0.0686, -0.3083],\n",
      "        [-0.4075, -0.5317,  0.0232, -0.0682,  0.3137, -1.4749,  0.4443, -0.7124]],\n",
      "       requires_grad=True)\n",
      "Nome: hidden_layer.4.bias\n",
      "Valor: Parameter containing:\n",
      "tensor([-1.1615,  0.3347], requires_grad=True)\n"
     ]
    }
   ],
   "source": [
    "for nome, param in GA_model.named_parameters():\n",
    "    print(f\"Nome: {nome}\")\n",
    "    print(f\"Valor: {param}\")\n"
   ]
  }
 ],
 "metadata": {
  "kernelspec": {
   "display_name": ".venv",
   "language": "python",
   "name": "python3"
  },
  "language_info": {
   "codemirror_mode": {
    "name": "ipython",
    "version": 3
   },
   "file_extension": ".py",
   "mimetype": "text/x-python",
   "name": "python",
   "nbconvert_exporter": "python",
   "pygments_lexer": "ipython3",
   "version": "3.13.1"
  }
 },
 "nbformat": 4,
 "nbformat_minor": 2
}
