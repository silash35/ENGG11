{
 "cells": [
  {
   "cell_type": "markdown",
   "metadata": {},
   "source": [
    "# Definindo sistema\n"
   ]
  },
  {
   "cell_type": "code",
   "execution_count": 1,
   "metadata": {},
   "outputs": [],
   "source": [
    "import numpy as np\n",
    "import torch\n",
    "\n",
    "from lib.physics import simulate\n",
    "from lib.plots import plot_tanks\n",
    "\n",
    "t = np.linspace(0, 300, 300)\n",
    "t_tensor = torch.tensor(t, dtype=torch.float32, requires_grad=True).unsqueeze(1)\n",
    "y0 = np.array([0, 0])\n",
    "sol = simulate(y0, t_eval=t)\n",
    "\n",
    "# Add noise\n",
    "h1_exp = sol[0] + np.random.normal(0, 1, len(t)) * 0.1\n",
    "h2_exp = sol[1] + np.random.normal(0, 1, len(t)) * 0.1\n",
    "\n",
    "plot_tanks(\n",
    "    t, [h1_exp, h2_exp], [\"h1 (exp)\", \"h2 (exp)\"], scatter=2, filename=\"exp_tanks\"\n",
    ")\n",
    "\n",
    "# from lib.physics import F\n",
    "# plt.figure(figsize=(10, 4), layout=\"constrained\")\n",
    "# plt.plot(t, F(t), label=\"F\")\n",
    "# plt.show()\n"
   ]
  },
  {
   "cell_type": "markdown",
   "metadata": {},
   "source": [
    "# Definindo rede neural\n"
   ]
  },
  {
   "cell_type": "code",
   "execution_count": 2,
   "metadata": {},
   "outputs": [],
   "source": [
    "from lib.BaseModel import BaseModel\n",
    "\n",
    "\n",
    "def getNewModel():\n",
    "    return BaseModel(\n",
    "        max_input=float(torch.max(t_tensor)),\n",
    "        max_output=float(torch.max(h1_exp)),\n",
    "    )\n"
   ]
  },
  {
   "cell_type": "code",
   "execution_count": 3,
   "metadata": {},
   "outputs": [],
   "source": [
    "from lib.physics import edo_torch\n",
    "from lib.utils import dydx, mean_square\n",
    "\n",
    "h1_exp = torch.tensor(h1_exp, dtype=torch.float32)\n",
    "h2_exp = torch.tensor(h2_exp, dtype=torch.float32)\n",
    "\n",
    "\n",
    "def loss_fn(model, t: torch.Tensor):\n",
    "    # Loss das EDOs\n",
    "    Y_pred = model(t)\n",
    "    h1_pred, h2_pred = Y_pred[:, 0], Y_pred[:, 1]\n",
    "\n",
    "    dh1dt_pinn, dh2dt_pinn = dydx(t, h1_pred), dydx(t, h2_pred)\n",
    "    dh1dt_edo, dh2dt_edo = edo_torch(t, [h1_pred, h2_pred])\n",
    "\n",
    "    loss_EDO1 = mean_square(dh1dt_pinn - dh1dt_edo)\n",
    "    loss_EDO2 = mean_square(dh2dt_pinn - dh2dt_edo)\n",
    "\n",
    "    # Loss das condições iniciais\n",
    "    t0 = torch.tensor([[0.0]], requires_grad=True)\n",
    "    Y0 = model(t0)\n",
    "    h1_0, h2_0 = Y0[:, 0], Y0[:, 1]\n",
    "\n",
    "    loss_ic1 = mean_square(h1_0 - y0[0])\n",
    "    loss_ic2 = mean_square(h2_0 - y0[1])\n",
    "\n",
    "    # Loss dos dados\n",
    "    loss_data_h1 = mean_square(h1_pred - h1_exp)\n",
    "    loss_data_h2 = mean_square(h2_pred - h2_exp)\n",
    "\n",
    "    # Loss total\n",
    "    loss_total = (\n",
    "        loss_EDO1 + loss_EDO2 + loss_data_h1 + loss_data_h2 + loss_ic1 + loss_ic2\n",
    "    )\n",
    "\n",
    "    return loss_total\n"
   ]
  },
  {
   "cell_type": "markdown",
   "metadata": {},
   "source": [
    "# Testando métodos\n"
   ]
  },
  {
   "cell_type": "code",
   "execution_count": 4,
   "metadata": {},
   "outputs": [],
   "source": [
    "n_execuções = 50\n",
    "target_loss = 0.1\n",
    "trials = 100\n",
    "\n",
    "Adam_study_path = \"../results/Adam-studies.hkl\"\n",
    "Adam_results_path = \"../results/Adam-speeds.hkl\"\n",
    "Adam_model_path = \"../results/Adam-model.pt\"\n",
    "\n",
    "GA_study_path = \"../results/GA-studies.hkl\"\n",
    "GA_results_path = \"../results/GA-speeds.hkl\"\n",
    "GA_model_path = \"../results/GA-model.pt\"\n",
    "\n",
    "GA_and_Adam_results_path = \"../results/GA-and-Adam-speeds.hkl\"\n",
    "GA_and_Adam_model_path = \"../results/GA-and-Adam-model.pt\"\n",
    "\n",
    "\n",
    "def count_fails(losses):\n",
    "    return np.sum(np.array(losses) > target_loss)\n"
   ]
  },
  {
   "cell_type": "markdown",
   "metadata": {},
   "source": [
    "## Adam\n"
   ]
  },
  {
   "cell_type": "markdown",
   "metadata": {},
   "source": [
    "### Otimizando hiperparametros\n"
   ]
  },
  {
   "cell_type": "code",
   "execution_count": 5,
   "metadata": {},
   "outputs": [
    {
     "name": "stderr",
     "output_type": "stream",
     "text": [
      "[I 2025-01-25 21:13:55,656] A new study created in memory with name: Adam-study\n"
     ]
    },
    {
     "name": "stdout",
     "output_type": "stream",
     "text": [
      "Otimização realizada anteriormente. Recuperando valores...\n",
      "Imprimindo resultado:\n",
      "  Valor do Loss: 0.0197629164904356\n",
      "  hiperparametros:\n",
      "    lr: 0.004589063269254406\n",
      "    beta1: 0.9564560540424447\n",
      "    beta2: 0.8804782307261265\n"
     ]
    }
   ],
   "source": [
    "import optuna\n",
    "\n",
    "from lib.optuna import study\n",
    "from lib.utils import train\n",
    "\n",
    "\n",
    "def objective(trial: optuna.Trial):\n",
    "    torch.manual_seed(42)\n",
    "    test_model = getNewModel()\n",
    "\n",
    "    lr = trial.suggest_float(\"lr\", 1e-15, 1)\n",
    "    beta1 = trial.suggest_float(\"beta1\", 1e-10, 1)\n",
    "    beta2 = trial.suggest_float(\"beta2\", 1e-10, 1)\n",
    "\n",
    "    optimizer = torch.optim.Adam(test_model.parameters(), lr=lr, betas=(beta1, beta2))\n",
    "\n",
    "    return train(test_model, loss_fn, optimizer, 1000, t_tensor)\n",
    "\n",
    "\n",
    "best_Adam_params = study(objective, trials, \"Adam-study\", Adam_study_path)\n"
   ]
  },
  {
   "cell_type": "markdown",
   "metadata": {},
   "source": [
    "### Medindo desempenho\n"
   ]
  },
  {
   "cell_type": "code",
   "execution_count": 6,
   "metadata": {},
   "outputs": [
    {
     "name": "stdout",
     "output_type": "stream",
     "text": [
      "Recuperando testes anteriores\n",
      "Média do tempo (Adam): 1.193s\n",
      "Tentativas falhadas: 0\n"
     ]
    }
   ],
   "source": [
    "from lib.test_speed import test_train_speed\n",
    "\n",
    "\n",
    "def Adam_train(model, seed):\n",
    "    optimizer = torch.optim.Adam(\n",
    "        model.parameters(),\n",
    "        lr=best_Adam_params[\"lr\"],\n",
    "        betas=(best_Adam_params[\"beta1\"], best_Adam_params[\"beta2\"]),\n",
    "    )\n",
    "    loss_value = train(model, loss_fn, optimizer, 5000, t_tensor, target_loss)\n",
    "    return loss_value\n",
    "\n",
    "\n",
    "Adam_times, Adam_losses, Adam_model = test_train_speed(\n",
    "    Adam_train, getNewModel, n_execuções, Adam_results_path, Adam_model_path\n",
    ")\n",
    "\n",
    "print(f\"Média do tempo (Adam): {np.mean(Adam_times):.3f}s\")\n",
    "print(\"Tentativas falhadas:\", count_fails(Adam_losses))\n"
   ]
  },
  {
   "cell_type": "code",
   "execution_count": 7,
   "metadata": {},
   "outputs": [],
   "source": [
    "@torch.inference_mode()\n",
    "def test_model(model):\n",
    "    y = model(t_tensor)\n",
    "    return [y[:, 0], y[:, 1]]\n",
    "\n",
    "\n",
    "pinn_h1, pinn_h2 = test_model(Adam_model)\n",
    "\n",
    "# Gráfico\n",
    "plot_tanks(\n",
    "    t,\n",
    "    (h1_exp, h2_exp, pinn_h1, pinn_h2),\n",
    "    [\"h1 (exp)\", \"h2 (exp)\", \"h1 (PINN Adam)\", \"h2 (PINN Adam)\"],\n",
    "    scatter=2,\n",
    "    filename=\"adam_tanks\",\n",
    ")\n"
   ]
  },
  {
   "cell_type": "markdown",
   "metadata": {},
   "source": [
    "## Algoritmo Genético\n"
   ]
  },
  {
   "cell_type": "code",
   "execution_count": 8,
   "metadata": {},
   "outputs": [],
   "source": [
    "import pygad\n",
    "from pygad.torchga import torchga\n",
    "\n",
    "GA_model = getNewModel()\n",
    "\n",
    "\n",
    "def fitness_func(ga_instance, solution, solution_idx):\n",
    "    model_weights_dict = torchga.model_weights_as_dict(\n",
    "        model=GA_model, weights_vector=solution\n",
    "    )\n",
    "    GA_model.load_state_dict(model_weights_dict)\n",
    "\n",
    "    GA_model.eval()\n",
    "    loss = loss_fn(GA_model, t_tensor)\n",
    "\n",
    "    # Quanto menor o loss, maior o fitness\n",
    "    return -loss.item()\n"
   ]
  },
  {
   "cell_type": "markdown",
   "metadata": {},
   "source": [
    "### Otimizando hiperparametros\n"
   ]
  },
  {
   "cell_type": "code",
   "execution_count": 9,
   "metadata": {},
   "outputs": [
    {
     "name": "stderr",
     "output_type": "stream",
     "text": [
      "[I 2025-01-25 21:13:56,286] A new study created in memory with name: GA-study\n"
     ]
    },
    {
     "name": "stdout",
     "output_type": "stream",
     "text": [
      "Otimização realizada anteriormente. Recuperando valores...\n",
      "Imprimindo resultado:\n",
      "  Valor do Loss: -0.10038375109434128\n",
      "  hiperparametros:\n",
      "    parent_selection_type: sss\n",
      "    keep_elitism: 4\n",
      "    num_parents_mating: 6\n",
      "    crossover_type: single_point\n",
      "    crossover_probability: 0.10600715915754366\n",
      "    mutation_type: adaptive\n",
      "    mutation_probability: 0.44684389236973643\n"
     ]
    }
   ],
   "source": [
    "def objective(trial: optuna.Trial):\n",
    "    torch.manual_seed(42)\n",
    "    test_model = getNewModel()\n",
    "\n",
    "    parent_selection_type = trial.suggest_categorical(\n",
    "        \"parent_selection_type\", [\"sss\", \"rws\", \"sus\", \"rank\", \"random\", \"tournament\"]\n",
    "    )\n",
    "    keep_elitism = trial.suggest_int(\"keep_elitism\", 0, 10)\n",
    "    num_parents_mating = trial.suggest_int(\"num_parents_mating\", 2, 10)\n",
    "\n",
    "    crossover_type = trial.suggest_categorical(\n",
    "        \"crossover_type\", [\"single_point\", \"two_points\", \"uniform\", \"scattered\", None]\n",
    "    )\n",
    "    crossover_probability = trial.suggest_float(\"crossover_probability\", 0, 1)\n",
    "\n",
    "    mutation_type = trial.suggest_categorical(\n",
    "        \"mutation_type\", [\"random\", \"swap\", \"inversion\", \"scramble\", \"adaptive\", None]\n",
    "    )\n",
    "    mutation_probability = trial.suggest_float(\"mutation_probability\", 0, 1)\n",
    "\n",
    "    # Configura o TorchGA para criar populações baseadas no modelo\n",
    "    torch_ga = torchga.TorchGA(model=test_model, num_solutions=50)\n",
    "\n",
    "    # Configura o algoritmo genético\n",
    "    ga_instance = pygad.GA(\n",
    "        # Configurações\n",
    "        initial_population=torch_ga.population_weights,  # População inicial\n",
    "        fitness_func=fitness_func,  # Função de aptidão\n",
    "        num_generations=80,  # Número de gerações\n",
    "        random_seed=42,\n",
    "        init_range_low=-4,\n",
    "        init_range_high=4,\n",
    "        # Parâmetros para otimizar\n",
    "        parent_selection_type=parent_selection_type,\n",
    "        keep_elitism=keep_elitism,\n",
    "        num_parents_mating=num_parents_mating,\n",
    "        crossover_type=crossover_type,  # type: ignore\n",
    "        crossover_probability=crossover_probability,\n",
    "        mutation_type=mutation_type,  # type: ignore\n",
    "        mutation_probability=(\n",
    "            mutation_probability if mutation_type != \"adaptive\" else [0.8, 0.1]\n",
    "        ),\n",
    "    )\n",
    "\n",
    "    # Executa o algoritmo genético\n",
    "    ga_instance.run()\n",
    "\n",
    "    _, best_solution_fitness, _ = ga_instance.best_solution()\n",
    "\n",
    "    return float(best_solution_fitness)\n",
    "\n",
    "\n",
    "best_GA_params = study(\n",
    "    objective, trials, \"GA-study\", GA_study_path, study_direction=\"maximize\"\n",
    ")\n"
   ]
  },
  {
   "cell_type": "markdown",
   "metadata": {},
   "source": [
    "### Medindo desempenho\n"
   ]
  },
  {
   "cell_type": "code",
   "execution_count": 10,
   "metadata": {},
   "outputs": [
    {
     "name": "stdout",
     "output_type": "stream",
     "text": [
      "Recuperando testes anteriores\n",
      "Média do tempo (GA): 295.985s\n",
      "Tentativas falhadas: 19\n"
     ]
    }
   ],
   "source": [
    "def on_generation(ga_instance):\n",
    "    if ga_instance.best_solution()[1] > -target_loss:\n",
    "        print(\"Chegou no loss alvo antes de terminar as gerações!\")\n",
    "        return \"stop\"\n",
    "\n",
    "    return None\n",
    "\n",
    "\n",
    "if best_GA_params[\"mutation_type\"] == \"adaptive\":\n",
    "    best_GA_params[\"mutation_probability\"] = [0.8, 0.1]\n",
    "\n",
    "\n",
    "def GA_train(model, seed):\n",
    "    torch_ga = torchga.TorchGA(model=model, num_solutions=200)\n",
    "    ga_instance = pygad.GA(\n",
    "        initial_population=torch_ga.population_weights,\n",
    "        fitness_func=fitness_func,\n",
    "        random_seed=seed,\n",
    "        num_generations=500,\n",
    "        init_range_low=-4,\n",
    "        init_range_high=4,\n",
    "        on_generation=on_generation,\n",
    "        **best_GA_params,\n",
    "    )\n",
    "    ga_instance.run()\n",
    "    best_solution, best_solution_fitness, _ = ga_instance.best_solution()\n",
    "\n",
    "    model_weights_dict = torchga.model_weights_as_dict(\n",
    "        model=model, weights_vector=best_solution\n",
    "    )\n",
    "    model.load_state_dict(model_weights_dict)\n",
    "\n",
    "    return -best_solution_fitness\n",
    "\n",
    "\n",
    "GA_times, GA_losses, GA_model = test_train_speed(\n",
    "    GA_train, getNewModel, n_execuções, GA_results_path, GA_model_path\n",
    ")\n",
    "\n",
    "print(f\"Média do tempo (GA): {np.mean(GA_times):.3f}s\")\n",
    "print(\"Tentativas falhadas:\", count_fails(GA_losses))\n"
   ]
  },
  {
   "cell_type": "code",
   "execution_count": 11,
   "metadata": {},
   "outputs": [],
   "source": [
    "pinn_h1, pinn_h2 = test_model(GA_model)\n",
    "\n",
    "# Gráfico\n",
    "plot_tanks(\n",
    "    t,\n",
    "    (h1_exp, h2_exp, pinn_h1, pinn_h2),\n",
    "    [\"h1 (exp)\", \"h2 (exp)\", \"h1 (PINN GA)\", \"h2 (PINN GA)\"],\n",
    "    scatter=2,\n",
    "    filename=\"ga_tanks\",\n",
    ")\n"
   ]
  },
  {
   "cell_type": "code",
   "execution_count": 12,
   "metadata": {},
   "outputs": [
    {
     "name": "stdout",
     "output_type": "stream",
     "text": [
      "Nome: hidden_layer.0.weight\n",
      "Valor: Parameter containing:\n",
      "tensor([[-1.7132],\n",
      "        [ 0.0710],\n",
      "        [-1.0671],\n",
      "        [ 1.1059],\n",
      "        [ 0.4313],\n",
      "        [-0.5164],\n",
      "        [-0.7310],\n",
      "        [-2.9396]], requires_grad=True)\n",
      "Nome: hidden_layer.0.bias\n",
      "Valor: Parameter containing:\n",
      "tensor([ 0.8284,  1.7903, -1.9252,  0.5253,  0.1504, -0.3695,  2.4039,  0.6971],\n",
      "       requires_grad=True)\n",
      "Nome: hidden_layer.2.weight\n",
      "Valor: Parameter containing:\n",
      "tensor([[ 0.5865, -0.0041, -0.2156, -0.2902,  1.1544,  1.7508, -0.0568,  1.9967],\n",
      "        [-0.2597,  1.9773, -0.5286,  2.1252, -0.2522,  1.8214,  1.6978,  2.1230],\n",
      "        [-1.0570, -0.8142,  0.7074, -0.8498, -0.8204,  1.7083,  1.2689,  0.2372],\n",
      "        [ 1.2149,  0.7023,  0.7801,  0.0129,  0.3940,  0.5784,  0.2530, -0.0863],\n",
      "        [ 1.2672,  0.5699,  1.1677, -0.9844, -1.1607, -2.6459,  1.1689,  0.0480],\n",
      "        [ 0.0872, -0.9587,  0.7151,  0.5189, -1.4917,  1.0889, -0.1413,  0.9018],\n",
      "        [-0.7030,  1.8345, -2.3525,  1.2998,  0.1317,  2.0464, -0.6284,  0.0846],\n",
      "        [ 0.3050,  0.1734, -1.1350,  1.6633, -1.1855, -0.9867, -0.6022,  1.2752]],\n",
      "       requires_grad=True)\n",
      "Nome: hidden_layer.2.bias\n",
      "Valor: Parameter containing:\n",
      "tensor([-1.9324,  0.2283, -0.2064, -1.3427,  1.0760,  2.8689,  1.3950, -1.4188],\n",
      "       requires_grad=True)\n",
      "Nome: hidden_layer.4.weight\n",
      "Valor: Parameter containing:\n",
      "tensor([[ 0.6864, -0.1256, -1.3988,  0.1600, -0.1302, -0.1978, -0.8135,  1.1568],\n",
      "        [-0.2443, -0.7461,  0.2757, -0.7258,  0.4859,  0.0731,  0.7214,  0.5308]],\n",
      "       requires_grad=True)\n",
      "Nome: hidden_layer.4.bias\n",
      "Valor: Parameter containing:\n",
      "tensor([-0.0958, -1.1554], requires_grad=True)\n"
     ]
    }
   ],
   "source": [
    "for nome, param in GA_model.named_parameters():\n",
    "    print(f\"Nome: {nome}\")\n",
    "    print(f\"Valor: {param}\")\n"
   ]
  },
  {
   "cell_type": "markdown",
   "metadata": {},
   "source": [
    "## Salvando resultados\n"
   ]
  },
  {
   "cell_type": "code",
   "execution_count": 13,
   "metadata": {},
   "outputs": [
    {
     "name": "stdout",
     "output_type": "stream",
     "text": [
      "Tentativas com sucesso (Adam): 50\n",
      "Tentativas com sucesso (GA): 31\n"
     ]
    }
   ],
   "source": [
    "import seaborn as sns\n",
    "from drawarrow import fig_arrow\n",
    "\n",
    "from lib.plots import colors, plot_density\n",
    "\n",
    "Adam_losses = np.array(Adam_losses)\n",
    "Adam_times = np.array(Adam_times)\n",
    "GA_losses = np.array(GA_losses)\n",
    "GA_times = np.array(GA_times)\n",
    "\n",
    "# Remove os valores que falharam\n",
    "successful_Adam = Adam_times[Adam_losses < target_loss]\n",
    "successful_GA = GA_times[GA_losses < target_loss]\n",
    "\n",
    "print(\"Tentativas com sucesso (Adam):\", len(successful_Adam))\n",
    "print(\"Tentativas com sucesso (GA):\", len(successful_GA))\n",
    "\n",
    "values = [successful_Adam, successful_GA]\n",
    "labels = [\"Adam\", \"GA\"]\n",
    "\n",
    "\n",
    "def zoom(plt):\n",
    "    fig_arrow(\n",
    "        head_position=(0.22, 0.7),\n",
    "        tail_position=(0.12, 0.65),\n",
    "        width=3,\n",
    "        radius=0.1,\n",
    "        color=\"darkred\",\n",
    "        mutation_scale=1.2,\n",
    "    )\n",
    "    sub_axes = plt.axes((0.25, 0.65, 0.25, 0.20))\n",
    "    # sub_axes.set_xticks([])\n",
    "    # sub_axes.set_yticks([])\n",
    "    sns.histplot(\n",
    "        successful_Adam,\n",
    "        kde=True,\n",
    "        bins=15,\n",
    "        color=colors[0],\n",
    "        ax=sub_axes,\n",
    "        stat=\"density\",\n",
    "    )\n",
    "    sub_axes.axvline(\n",
    "        np.mean(successful_Adam[-1]),\n",
    "        linestyle=\"--\",\n",
    "        linewidth=1.5,\n",
    "        color=colors[0],\n",
    "    )\n",
    "    sub_axes.set_ylabel(None)\n",
    "\n",
    "\n",
    "plot_density(values, labels, filename=\"density\", extra=zoom)\n"
   ]
  },
  {
   "cell_type": "markdown",
   "metadata": {},
   "source": [
    "## GA + Adam\n"
   ]
  },
  {
   "cell_type": "code",
   "execution_count": 14,
   "metadata": {},
   "outputs": [
    {
     "name": "stdout",
     "output_type": "stream",
     "text": [
      "Recuperando testes anteriores\n",
      "Média do tempo (GA + Adam): 2.332s\n",
      "Tentativas falhadas: 0\n"
     ]
    }
   ],
   "source": [
    "def GA_and_Adam_train(model, seed):\n",
    "    torch_ga = torchga.TorchGA(model=model, num_solutions=50)\n",
    "    ga_instance = pygad.GA(\n",
    "        initial_population=torch_ga.population_weights,\n",
    "        fitness_func=fitness_func,\n",
    "        random_seed=seed,\n",
    "        num_generations=5,\n",
    "        init_range_low=-4,\n",
    "        init_range_high=4,\n",
    "        **best_GA_params,\n",
    "    )\n",
    "    ga_instance.run()\n",
    "    best_solution, _, _ = ga_instance.best_solution()\n",
    "\n",
    "    model_weights_dict = torchga.model_weights_as_dict(\n",
    "        model=model, weights_vector=best_solution\n",
    "    )\n",
    "    model.load_state_dict(model_weights_dict)\n",
    "\n",
    "    optimizer = torch.optim.Adam(\n",
    "        model.parameters(),\n",
    "        lr=best_Adam_params[\"lr\"],\n",
    "        betas=(best_Adam_params[\"beta1\"], best_Adam_params[\"beta2\"]),\n",
    "    )\n",
    "    loss_value = train(model, loss_fn, optimizer, 5000, t_tensor, target_loss)\n",
    "    return loss_value\n",
    "\n",
    "\n",
    "GA_and_Adam_times, GA_and_Adam_losses, GA_and_Adam_model = test_train_speed(\n",
    "    GA_and_Adam_train,\n",
    "    getNewModel,\n",
    "    n_execuções,\n",
    "    GA_and_Adam_results_path,\n",
    "    GA_and_Adam_model_path,\n",
    ")\n",
    "\n",
    "print(f\"Média do tempo (GA + Adam): {np.mean(GA_and_Adam_times):.3f}s\")\n",
    "print(\"Tentativas falhadas:\", count_fails(GA_and_Adam_losses))\n"
   ]
  },
  {
   "cell_type": "markdown",
   "metadata": {},
   "source": [
    "## Plotando novos resultados\n"
   ]
  },
  {
   "cell_type": "code",
   "execution_count": 15,
   "metadata": {},
   "outputs": [],
   "source": [
    "values = [GA_and_Adam_times, Adam_times]\n",
    "labels = [\"GA + Adam\", \"Adam\"]\n",
    "\n",
    "\n",
    "plot_density(values, labels, filename=\"density-2\")\n"
   ]
  }
 ],
 "metadata": {
  "kernelspec": {
   "display_name": ".venv",
   "language": "python",
   "name": "python3"
  },
  "language_info": {
   "codemirror_mode": {
    "name": "ipython",
    "version": 3
   },
   "file_extension": ".py",
   "mimetype": "text/x-python",
   "name": "python",
   "nbconvert_exporter": "python",
   "pygments_lexer": "ipython3",
   "version": "3.13.1"
  }
 },
 "nbformat": 4,
 "nbformat_minor": 2
}
